{
  "nbformat": 4,
  "nbformat_minor": 0,
  "metadata": {
    "colab": {
      "provenance": []
    },
    "kernelspec": {
      "name": "python3",
      "display_name": "Python 3"
    },
    "language_info": {
      "name": "python"
    }
  },
  "cells": [
    {
      "cell_type": "code",
      "execution_count": 144,
      "metadata": {
        "id": "Cu62dv-5fXhZ"
      },
      "outputs": [],
      "source": [
        "import pandas as pd\n",
        "from sklearn.linear_model import LinearRegression\n",
        "from sklearn.impute import SimpleImputer\n",
        "from sklearn.model_selection import train_test_split\n",
        "from sklearn.metrics import mean_squared_error, r2_score"
      ]
    },
    {
      "cell_type": "code",
      "source": [
        "# Load the dataset\n",
        "df = pd.read_csv('train.csv')\n"
      ],
      "metadata": {
        "id": "09hNwPTrghdv"
      },
      "execution_count": 109,
      "outputs": []
    },
    {
      "cell_type": "code",
      "source": [
        "# Print the first few rows of the dataset\n",
        "print(df.head())\n",
        "\n",
        "# Print the column names\n",
        "print(df.columns)\n"
      ],
      "metadata": {
        "colab": {
          "base_uri": "https://localhost:8080/"
        },
        "id": "1hyDS_k8pNr_",
        "outputId": "4788efb6-2cd8-4be9-c89c-f96e3f29a4b9"
      },
      "execution_count": 110,
      "outputs": [
        {
          "output_type": "stream",
          "name": "stdout",
          "text": [
            "   Id  MSSubClass MSZoning  LotFrontage  LotArea Street Alley LotShape  \\\n",
            "0   1          60       RL         65.0     8450   Pave   NaN      Reg   \n",
            "1   2          20       RL         80.0     9600   Pave   NaN      Reg   \n",
            "2   3          60       RL         68.0    11250   Pave   NaN      IR1   \n",
            "3   4          70       RL         60.0     9550   Pave   NaN      IR1   \n",
            "4   5          60       RL         84.0    14260   Pave   NaN      IR1   \n",
            "\n",
            "  LandContour Utilities  ... PoolArea PoolQC Fence MiscFeature MiscVal MoSold  \\\n",
            "0         Lvl    AllPub  ...        0    NaN   NaN         NaN       0      2   \n",
            "1         Lvl    AllPub  ...        0    NaN   NaN         NaN       0      5   \n",
            "2         Lvl    AllPub  ...        0    NaN   NaN         NaN       0      9   \n",
            "3         Lvl    AllPub  ...        0    NaN   NaN         NaN       0      2   \n",
            "4         Lvl    AllPub  ...        0    NaN   NaN         NaN       0     12   \n",
            "\n",
            "  YrSold  SaleType  SaleCondition  SalePrice  \n",
            "0   2008        WD         Normal     208500  \n",
            "1   2007        WD         Normal     181500  \n",
            "2   2008        WD         Normal     223500  \n",
            "3   2006        WD        Abnorml     140000  \n",
            "4   2008        WD         Normal     250000  \n",
            "\n",
            "[5 rows x 81 columns]\n",
            "Index(['Id', 'MSSubClass', 'MSZoning', 'LotFrontage', 'LotArea', 'Street',\n",
            "       'Alley', 'LotShape', 'LandContour', 'Utilities', 'LotConfig',\n",
            "       'LandSlope', 'Neighborhood', 'Condition1', 'Condition2', 'BldgType',\n",
            "       'HouseStyle', 'OverallQual', 'OverallCond', 'YearBuilt', 'YearRemodAdd',\n",
            "       'RoofStyle', 'RoofMatl', 'Exterior1st', 'Exterior2nd', 'MasVnrType',\n",
            "       'MasVnrArea', 'ExterQual', 'ExterCond', 'Foundation', 'BsmtQual',\n",
            "       'BsmtCond', 'BsmtExposure', 'BsmtFinType1', 'BsmtFinSF1',\n",
            "       'BsmtFinType2', 'BsmtFinSF2', 'BsmtUnfSF', 'TotalBsmtSF', 'Heating',\n",
            "       'HeatingQC', 'CentralAir', 'Electrical', '1stFlrSF', '2ndFlrSF',\n",
            "       'LowQualFinSF', 'GrLivArea', 'BsmtFullBath', 'BsmtHalfBath', 'FullBath',\n",
            "       'HalfBath', 'BedroomAbvGr', 'KitchenAbvGr', 'KitchenQual',\n",
            "       'TotRmsAbvGrd', 'Functional', 'Fireplaces', 'FireplaceQu', 'GarageType',\n",
            "       'GarageYrBlt', 'GarageFinish', 'GarageCars', 'GarageArea', 'GarageQual',\n",
            "       'GarageCond', 'PavedDrive', 'WoodDeckSF', 'OpenPorchSF',\n",
            "       'EnclosedPorch', '3SsnPorch', 'ScreenPorch', 'PoolArea', 'PoolQC',\n",
            "       'Fence', 'MiscFeature', 'MiscVal', 'MoSold', 'YrSold', 'SaleType',\n",
            "       'SaleCondition', 'SalePrice'],\n",
            "      dtype='object')\n"
          ]
        }
      ]
    },
    {
      "cell_type": "code",
      "source": [
        "print(\"Distinct count in 'GrLivArea':\", df['GrLivArea'].nunique())\n",
        "print(\"Distinct count in 'Bedroom':\", df['BedroomAbvGr'].nunique())\n",
        "print(\"Distinct count in 'FullBath':\", df['FullBath'].nunique())\n",
        "print(\"Distinct count in 'SalePrice':\", df['SalePrice'].nunique())\n"
      ],
      "metadata": {
        "colab": {
          "base_uri": "https://localhost:8080/"
        },
        "id": "NvwAPauwiNfw",
        "outputId": "e67d1d67-0812-4c31-dee2-78f6ae60a33c"
      },
      "execution_count": 111,
      "outputs": [
        {
          "output_type": "stream",
          "name": "stdout",
          "text": [
            "Distinct count in 'GrLivArea': 861\n",
            "Distinct count in 'Bedroom': 8\n",
            "Distinct count in 'FullBath': 4\n",
            "Distinct count in 'SalePrice': 663\n"
          ]
        }
      ]
    },
    {
      "cell_type": "code",
      "source": [
        "# Display distinct (unique) values for the specified columns\n",
        "print(\"Distinct values in 'GrLivArea':\")\n",
        "print(df['GrLivArea'].unique())\n",
        "\n",
        "print(\"\\nDistinct values in 'Bedroom':\")\n",
        "print(df['BedroomAbvGr'].unique())\n",
        "\n",
        "print(\"\\nDistinct values in 'FullBath':\")\n",
        "print(df['FullBath'].unique())\n",
        "\n",
        "print(\"\\nDistinct values in 'SalePrice':\")\n",
        "print(df['SalePrice'].unique())\n"
      ],
      "metadata": {
        "colab": {
          "base_uri": "https://localhost:8080/"
        },
        "id": "oVGLXi46ijnB",
        "outputId": "9b653f39-9b62-44c7-e0c0-01386c7cb1dd"
      },
      "execution_count": 112,
      "outputs": [
        {
          "output_type": "stream",
          "name": "stdout",
          "text": [
            "Distinct values in 'GrLivArea':\n",
            "[1710 1262 1786 1717 2198 1362 1694 2090 1774 1077 1040 2324  912 1494\n",
            " 1253  854 1004 1296 1114 1339 2376 1108 1795 1060 1600  900 1704  520\n",
            " 1317 1228 1234 1700 1561 2452 1097 1297 1057 1152 1324 1328  884  938\n",
            " 1150 1752 2149 1656 1452  955 1470 1176  816 1842 1360 1425 1739 1720\n",
            " 2945  780 1158 1111 1370 2034 2473 2207 1479  747 2287 2223  845 1718\n",
            " 1086 1605  988  952 1285 1768 1230 2142 1337 1563 1065 1474 2417 1560\n",
            " 1224 1526  990 1235  964 2291 1588  960  835 1225 1610 1732 1535 1226\n",
            " 1818 1992 1047  789 1517 1844 1855 1430 2696 2259 2320 1458 1092 1125\n",
            " 3222 1456 1123 1080 1199 1586  754  958  840 1348 1053 2157 2054 1327\n",
            " 1721 1682 1214 1959 1852 1764  864 1734 1385 1501 1728 1709  875 2035\n",
            " 1344  969 1993 1252 1200 1096 1968 1947 2462 1232 2668 1541  882 1616\n",
            " 1355 1867 2161 1707 1382 1767 1651 2158 2060 1920 2234  968 1525 1802\n",
            " 1340 2082 3608 1217 1593 2727 1431 1726 3112 2229 1713 1121 1279 1310\n",
            "  848 1284 1442 1696 1100 2062 1212 1392 1236 1436 1954 1248 1498 2267\n",
            " 1552 2392 1302 2520  987 1555 1194 2794  894 1960 1414 1744 1487 1566\n",
            "  866 1440 2110 1872 1928 1375 1668 2144 1306 1625 1640 1314 1604 1792\n",
            " 2574 1316  764 1422 1511 2192  778 1113 1939 1363 2270 1632 1548 2121\n",
            " 2022 1982 1468 1575 1250  858 1396 1919 1716 2263 1644 1003 1558 1950\n",
            " 1743 1336 3493 2000 2243 1406  861 1944  972 1118 2036 1641 1432 2353\n",
            " 2646 1472 2596 2468 2730 1163 2978  803 1719 1383 2134 1192 1056 1629\n",
            " 1358 1638 1922 1536 1621 1215 1908  841 1684 1112 1577 1478 1626 2728\n",
            " 1869 1453  720 1595 1167 1142 1352 1924 1505 1574 1394 1268 1287 1664\n",
            "  752 1319  904  914 2466 1856 1800 1691 1301 1797  784 1953 1269 1184\n",
            " 2332 1367 1961  788 1034 1144 1812 1550 1288  672 1572 1620 1639 1680\n",
            " 2172 2078 1276 1028 2097 1400 2624 1134 1602 2630 1196 1389  907 1208\n",
            " 1412 1198 1365  630 1661  694 2402 1573 1258 1689 1888 1886 1376 1183\n",
            "  813 1533 1756 1590 1242 1663 1666 1203 1935 1135 1660 1277 1634 1502\n",
            " 1969 1072 1976 1652  970 1493 2643 1131 1850 1826 1216  999 1073 1484\n",
            " 2414 1304 1578  886 3228 1820  899 1218 1801 1322 1911 1378 1041 1368\n",
            " 2020 2119 2344 1796 2080 1294 1244 4676 2398 1266  928 2713  605 2515\n",
            " 1509  827  334 1347 1724 1159 1601 1838 2285  767 1496 2183 1635  768\n",
            "  825 2094 1069 1126 2046 1048 1446 1557  996 1674 2295 1647 2504 2132\n",
            "  943 1692 1109 1477 1320 1429 2042 2775 2028  838  860 1473  935 1582\n",
            " 2296  924 1402 1556 1904 1915 1986 2008 3194 1029 2153 1032 1120 1054\n",
            "  832 1828 2262 2614  980 1512 1790 1116 1520 1350 1750 1554 1411 3395\n",
            "  800 1387  796 1567 1518 1929 2704 1766  981 1094 1839 1665 1510 1469\n",
            " 2113 1486 2448 1181 1936 2380 1679 1437 1180 1476 1369 1136 1441  792\n",
            "  923 1291 1761 1102 1419 4316 2519 1539 1137  616 1148 1391 1164 2576\n",
            " 1824  729 1178 2554 2418  971 1742 1698 1776 1146 2031  948 1349 1464\n",
            " 2715 2256 2640 1529 1140 2098 1026 1471 1386 2531 1547 2365 1506 1714\n",
            " 1836 3279 1220 1117 1973 1204 1614 1603 1110 1342 2084  901 2087 1145\n",
            " 1062 2013 1895 1564  773 3140 1688 2822 1128 1428 1576 2138 1309 1044\n",
            " 1008 1052  936 1733 1489 1434 2126 1223 1829 1516 1067 1559 1099 1482\n",
            " 1165 1416 1701 1775 2358 1646 1445 1779 1481 2654 1426 1039 1372 1002\n",
            " 1949  910 2610 2224 1155 1090 2230  892 1712 1393 2217 1683 1068  951\n",
            " 2240 2364 1670  902 1063 1636 2057 2274 1015 2002  480 1229 2127 2200\n",
            " 1617 1686 2374 1978 1788 2236 1466  925 1905 1500 2069 1971 1962 2403\n",
            " 1381  965 1958 2872 1894 1308 1098 1095  918 2019  869 1241 2612 2290\n",
            " 1940 2030 1851 1050  944  691 1504  985 1657 1522 1271 1022 1082 1132\n",
            " 2898 1264 3082 1654  954 1803 2329 2524 2868 1771  930 1977 1989 1523\n",
            " 1364 2184 1991 1338 2337 1103 1154 2260 1571 1611 2521  893 1240 1740\n",
            " 1459 1251 1247 1088  438  950 2622 2021 1690 1658 1964  833 1012  698\n",
            " 1005 1530 1981  974 2210  986 1020 1868 2828 1006 1298  932 1811 1265\n",
            " 1580 1876 1671 2108 3627 1261 3086 2345 1343 1124 2514 4476 1130 1221\n",
            " 1699 1624 1804 1622 1863 1630 1074 2196 1283 1845 1902 1211 1846 2136\n",
            " 1490 1138 1933 1702 1507 2620 1190 1188 1784 1948 1141 1173 2076 1553\n",
            " 2058 1405  874 2167 1987 1166 1675 1889 2018 3447 1524 1357 1395 2447\n",
            " 1659 1970 2372 5642 1246 1983 2526 1708 1122 1274 2810 2599 2112 1787\n",
            " 1923  708  774 2792 1334  693 1861  872 2169 1913 2156 2634 3238 1865\n",
            " 1078 1980 2601 1738 1475 1374 2633  790 2117 1762 2784 1746 1584 1912\n",
            " 2482 1687 1513 1608 2093 1840 1848 1569 2450 2201  804 1537 1932 1725\n",
            " 2555 2007  913 1346 2073 2340 1256]\n",
            "\n",
            "Distinct values in 'Bedroom':\n",
            "[3 4 1 2 0 5 6 8]\n",
            "\n",
            "Distinct values in 'FullBath':\n",
            "[2 1 3 0]\n",
            "\n",
            "Distinct values in 'SalePrice':\n",
            "[208500 181500 223500 140000 250000 143000 307000 200000 129900 118000\n",
            " 129500 345000 144000 279500 157000 132000 149000  90000 159000 139000\n",
            " 325300 139400 230000 154000 256300 134800 306000 207500  68500  40000\n",
            " 149350 179900 165500 277500 309000 145000 153000 109000  82000 160000\n",
            " 170000 130250 141000 319900 239686 249700 113000 127000 177000 114500\n",
            " 110000 385000 130000 180500 172500 196500 438780 124900 158000 101000\n",
            " 202500 219500 317000 180000 226000  80000 225000 244000 185000 144900\n",
            " 107400  91000 135750 136500 193500 153500 245000 126500 168500 260000\n",
            " 174000 164500  85000 123600 109900  98600 163500 133900 204750 214000\n",
            "  94750  83000 128950 205000 178000 118964 198900 169500 100000 115000\n",
            " 190000 136900 383970 217000 259500 176000 155000 320000 163990 136000\n",
            " 153900 181000  84500 128000  87000 150000 150750 220000 171000 231500\n",
            " 166000 204000 125000 105000 222500 122000 372402 235000  79000 109500\n",
            " 269500 254900 162500 412500 103200 152000 127500 325624 183500 228000\n",
            " 128500 215000 239000 163000 184000 243000 211000 501837 200100 120000\n",
            " 475000 173000 135000 153337 286000 315000 192000 148500 311872 104000\n",
            " 274900 171500 112000 143900 277000  98000 186000 252678 156000 161750\n",
            " 134450 210000 107000 311500 167240 204900  97000 386250 290000 106000\n",
            " 192500 148000 403000  94500 128200 216500  89500 185500 194500 318000\n",
            " 262500 110500 241500 137000  76500 276000 151000  73000 175500 179500\n",
            " 120500 266000 124500 201000 415298 228500 244600 179200 164700  88000\n",
            " 153575 233230 135900 131000 167000 142500 175000 158500 267000 149900\n",
            " 295000 305900  82500 360000 165600 119900 375000 188500 270000 187500\n",
            " 342643 354000 301000 126175 242000 324000 145250 214500  78000 119000\n",
            " 284000 207000 228950 377426 202900  87500 140200 151500 157500 437154\n",
            " 318061  95000 105900 177500 134000 280000 198500 147000 165000 162000\n",
            " 172400 134432 123000  61000 340000 394432 179000 187750 213500  76000\n",
            " 240000  81000 191000 426000 106500 129000  67000 241000 245500 164990\n",
            " 108000 258000 168000 339750  60000 222000 181134 149500 126000 142000\n",
            " 206300 275000 109008 195400  85400  79900 122500 212000 116000  90350\n",
            " 555000 162900 199900 119500 188000 256000 161000 263435  62383 188700\n",
            " 124000 178740 146500 187000 440000 251000 132500 208900 380000 297000\n",
            "  89471 326000 374000 164000  86000 133000 172785  91300  34900 430000\n",
            " 226700 289000 208300 164900 202665  96500 402861 265000 234000 106250\n",
            " 184750 315750 446261 200624 107500  39300 111250 272000 248000 213250\n",
            " 179665 229000 263000 112500 255500 121500 268000 325000 316600 135960\n",
            " 142600 224500 118500 146000 131500 181900 253293 369900  79500 185900\n",
            " 451950 138000 319000 114504 194201 217500 221000 359100 313000 261500\n",
            "  75500 137500 183200 105500 314813 305000 165150 139900 209500  93000\n",
            " 264561 274000 370878 143250  98300 205950 350000 145500  97500 197900\n",
            " 402000 423000 230500 173500 103600 257500 372500 159434 285000 227875\n",
            " 148800 392000 194700 755000 335000 108480 141500  89000 123500 138500\n",
            " 196000 312500 361919 213000  55000 302000 254000 179540  52000 102776\n",
            " 189000 130500 159500 341000 103000 236500 131400  93500 239900 299800\n",
            " 236000 265979 260400 275500 158900 179400 215200 337000 264132 216837\n",
            " 538000 134900 102000 395000 221500 175900 187100 161500 233000 107900\n",
            " 160200 146800 269790 143500 485000 582933 227680 135500 159950 144500\n",
            "  55993 157900 224900 271000 224000 183000 139500 232600 147400 237000\n",
            " 139950 174900 133500 189950 250580 248900 169000 200500  66500 303477\n",
            " 132250 328900 122900 154500 118858 142953 611657 125500 255000 154300\n",
            " 173733  75000  35311 238000 176500 145900 169990 193000 117500 184900\n",
            " 253000 239799 244400 150900 197500 172000 116500 214900 178900  37900\n",
            "  99500 182000 167500  85500 178400 336000 159895 255900 117000 395192\n",
            " 195000 197000 348000 173900 337500 121600 206000 232000 136905 119200\n",
            " 227000 203000 213490 194000 287000 293077 310000 119750  84000 315500\n",
            " 262280 278000 139600 556581  84900 176485 200141 185850 328000 167900\n",
            " 151400  91500 138800 155900  83500 252000  92900 176432 274725 134500\n",
            " 184100 133700 118400 212900 163900 259000 239500  94000 424870 174500\n",
            " 116900 201800 218000 235128 108959 233170 245350 625000 171900 154900\n",
            " 392500 745000 186700 104900 262000 219210 116050 271900 229456  80500\n",
            " 137900 367294 101800 138887 265900 248328 465000 186500 169900 171750\n",
            " 294000 165400 301500  99900 128900 183900 378500 381000 185750  68400\n",
            " 150500 281000 333168 206900 295493 111000 156500  72500  52500 155835\n",
            " 108500 283463 410000 156932 144152 216000 274300 466500  58500 237500\n",
            " 377500 246578 281213 137450 193879 282922 257000 223000 274970 182900\n",
            " 192140 143750  64500 394617 149700 149300 121000 179600  92000 287090\n",
            " 266500 142125 147500]\n"
          ]
        }
      ]
    },
    {
      "cell_type": "code",
      "source": [
        "# Understand the dataset structure\n",
        "print(df.info())\n",
        "\n"
      ],
      "metadata": {
        "colab": {
          "base_uri": "https://localhost:8080/"
        },
        "id": "YIdtvOPkiza3",
        "outputId": "d877252a-e266-4b33-f56e-85483b2832d5"
      },
      "execution_count": 113,
      "outputs": [
        {
          "output_type": "stream",
          "name": "stdout",
          "text": [
            "<class 'pandas.core.frame.DataFrame'>\n",
            "RangeIndex: 1460 entries, 0 to 1459\n",
            "Data columns (total 81 columns):\n",
            " #   Column         Non-Null Count  Dtype  \n",
            "---  ------         --------------  -----  \n",
            " 0   Id             1460 non-null   int64  \n",
            " 1   MSSubClass     1460 non-null   int64  \n",
            " 2   MSZoning       1460 non-null   object \n",
            " 3   LotFrontage    1201 non-null   float64\n",
            " 4   LotArea        1460 non-null   int64  \n",
            " 5   Street         1460 non-null   object \n",
            " 6   Alley          91 non-null     object \n",
            " 7   LotShape       1460 non-null   object \n",
            " 8   LandContour    1460 non-null   object \n",
            " 9   Utilities      1460 non-null   object \n",
            " 10  LotConfig      1460 non-null   object \n",
            " 11  LandSlope      1460 non-null   object \n",
            " 12  Neighborhood   1460 non-null   object \n",
            " 13  Condition1     1460 non-null   object \n",
            " 14  Condition2     1460 non-null   object \n",
            " 15  BldgType       1460 non-null   object \n",
            " 16  HouseStyle     1460 non-null   object \n",
            " 17  OverallQual    1460 non-null   int64  \n",
            " 18  OverallCond    1460 non-null   int64  \n",
            " 19  YearBuilt      1460 non-null   int64  \n",
            " 20  YearRemodAdd   1460 non-null   int64  \n",
            " 21  RoofStyle      1460 non-null   object \n",
            " 22  RoofMatl       1460 non-null   object \n",
            " 23  Exterior1st    1460 non-null   object \n",
            " 24  Exterior2nd    1460 non-null   object \n",
            " 25  MasVnrType     588 non-null    object \n",
            " 26  MasVnrArea     1452 non-null   float64\n",
            " 27  ExterQual      1460 non-null   object \n",
            " 28  ExterCond      1460 non-null   object \n",
            " 29  Foundation     1460 non-null   object \n",
            " 30  BsmtQual       1423 non-null   object \n",
            " 31  BsmtCond       1423 non-null   object \n",
            " 32  BsmtExposure   1422 non-null   object \n",
            " 33  BsmtFinType1   1423 non-null   object \n",
            " 34  BsmtFinSF1     1460 non-null   int64  \n",
            " 35  BsmtFinType2   1422 non-null   object \n",
            " 36  BsmtFinSF2     1460 non-null   int64  \n",
            " 37  BsmtUnfSF      1460 non-null   int64  \n",
            " 38  TotalBsmtSF    1460 non-null   int64  \n",
            " 39  Heating        1460 non-null   object \n",
            " 40  HeatingQC      1460 non-null   object \n",
            " 41  CentralAir     1460 non-null   object \n",
            " 42  Electrical     1459 non-null   object \n",
            " 43  1stFlrSF       1460 non-null   int64  \n",
            " 44  2ndFlrSF       1460 non-null   int64  \n",
            " 45  LowQualFinSF   1460 non-null   int64  \n",
            " 46  GrLivArea      1460 non-null   int64  \n",
            " 47  BsmtFullBath   1460 non-null   int64  \n",
            " 48  BsmtHalfBath   1460 non-null   int64  \n",
            " 49  FullBath       1460 non-null   int64  \n",
            " 50  HalfBath       1460 non-null   int64  \n",
            " 51  BedroomAbvGr   1460 non-null   int64  \n",
            " 52  KitchenAbvGr   1460 non-null   int64  \n",
            " 53  KitchenQual    1460 non-null   object \n",
            " 54  TotRmsAbvGrd   1460 non-null   int64  \n",
            " 55  Functional     1460 non-null   object \n",
            " 56  Fireplaces     1460 non-null   int64  \n",
            " 57  FireplaceQu    770 non-null    object \n",
            " 58  GarageType     1379 non-null   object \n",
            " 59  GarageYrBlt    1379 non-null   float64\n",
            " 60  GarageFinish   1379 non-null   object \n",
            " 61  GarageCars     1460 non-null   int64  \n",
            " 62  GarageArea     1460 non-null   int64  \n",
            " 63  GarageQual     1379 non-null   object \n",
            " 64  GarageCond     1379 non-null   object \n",
            " 65  PavedDrive     1460 non-null   object \n",
            " 66  WoodDeckSF     1460 non-null   int64  \n",
            " 67  OpenPorchSF    1460 non-null   int64  \n",
            " 68  EnclosedPorch  1460 non-null   int64  \n",
            " 69  3SsnPorch      1460 non-null   int64  \n",
            " 70  ScreenPorch    1460 non-null   int64  \n",
            " 71  PoolArea       1460 non-null   int64  \n",
            " 72  PoolQC         7 non-null      object \n",
            " 73  Fence          281 non-null    object \n",
            " 74  MiscFeature    54 non-null     object \n",
            " 75  MiscVal        1460 non-null   int64  \n",
            " 76  MoSold         1460 non-null   int64  \n",
            " 77  YrSold         1460 non-null   int64  \n",
            " 78  SaleType       1460 non-null   object \n",
            " 79  SaleCondition  1460 non-null   object \n",
            " 80  SalePrice      1460 non-null   int64  \n",
            "dtypes: float64(3), int64(35), object(43)\n",
            "memory usage: 924.0+ KB\n",
            "None\n"
          ]
        }
      ]
    },
    {
      "cell_type": "code",
      "source": [
        "print(df.describe())"
      ],
      "metadata": {
        "colab": {
          "base_uri": "https://localhost:8080/"
        },
        "id": "5p2f9tiSjgn2",
        "outputId": "2f1212b0-ebea-4521-af42-599c371cca1f"
      },
      "execution_count": 114,
      "outputs": [
        {
          "output_type": "stream",
          "name": "stdout",
          "text": [
            "                Id   MSSubClass  LotFrontage        LotArea  OverallQual  \\\n",
            "count  1460.000000  1460.000000  1201.000000    1460.000000  1460.000000   \n",
            "mean    730.500000    56.897260    70.049958   10516.828082     6.099315   \n",
            "std     421.610009    42.300571    24.284752    9981.264932     1.382997   \n",
            "min       1.000000    20.000000    21.000000    1300.000000     1.000000   \n",
            "25%     365.750000    20.000000    59.000000    7553.500000     5.000000   \n",
            "50%     730.500000    50.000000    69.000000    9478.500000     6.000000   \n",
            "75%    1095.250000    70.000000    80.000000   11601.500000     7.000000   \n",
            "max    1460.000000   190.000000   313.000000  215245.000000    10.000000   \n",
            "\n",
            "       OverallCond    YearBuilt  YearRemodAdd   MasVnrArea   BsmtFinSF1  ...  \\\n",
            "count  1460.000000  1460.000000   1460.000000  1452.000000  1460.000000  ...   \n",
            "mean      5.575342  1971.267808   1984.865753   103.685262   443.639726  ...   \n",
            "std       1.112799    30.202904     20.645407   181.066207   456.098091  ...   \n",
            "min       1.000000  1872.000000   1950.000000     0.000000     0.000000  ...   \n",
            "25%       5.000000  1954.000000   1967.000000     0.000000     0.000000  ...   \n",
            "50%       5.000000  1973.000000   1994.000000     0.000000   383.500000  ...   \n",
            "75%       6.000000  2000.000000   2004.000000   166.000000   712.250000  ...   \n",
            "max       9.000000  2010.000000   2010.000000  1600.000000  5644.000000  ...   \n",
            "\n",
            "        WoodDeckSF  OpenPorchSF  EnclosedPorch    3SsnPorch  ScreenPorch  \\\n",
            "count  1460.000000  1460.000000    1460.000000  1460.000000  1460.000000   \n",
            "mean     94.244521    46.660274      21.954110     3.409589    15.060959   \n",
            "std     125.338794    66.256028      61.119149    29.317331    55.757415   \n",
            "min       0.000000     0.000000       0.000000     0.000000     0.000000   \n",
            "25%       0.000000     0.000000       0.000000     0.000000     0.000000   \n",
            "50%       0.000000    25.000000       0.000000     0.000000     0.000000   \n",
            "75%     168.000000    68.000000       0.000000     0.000000     0.000000   \n",
            "max     857.000000   547.000000     552.000000   508.000000   480.000000   \n",
            "\n",
            "          PoolArea       MiscVal       MoSold       YrSold      SalePrice  \n",
            "count  1460.000000   1460.000000  1460.000000  1460.000000    1460.000000  \n",
            "mean      2.758904     43.489041     6.321918  2007.815753  180921.195890  \n",
            "std      40.177307    496.123024     2.703626     1.328095   79442.502883  \n",
            "min       0.000000      0.000000     1.000000  2006.000000   34900.000000  \n",
            "25%       0.000000      0.000000     5.000000  2007.000000  129975.000000  \n",
            "50%       0.000000      0.000000     6.000000  2008.000000  163000.000000  \n",
            "75%       0.000000      0.000000     8.000000  2009.000000  214000.000000  \n",
            "max     738.000000  15500.000000    12.000000  2010.000000  755000.000000  \n",
            "\n",
            "[8 rows x 38 columns]\n"
          ]
        }
      ]
    },
    {
      "cell_type": "code",
      "source": [
        "# Check for null values in the dataset\n",
        "null_values = df.isnull().sum()\n",
        "print(null_values)\n"
      ],
      "metadata": {
        "colab": {
          "base_uri": "https://localhost:8080/"
        },
        "id": "HjKjgglGjjSf",
        "outputId": "5ee29c3c-0c51-4e5f-b20d-8ca12565637d"
      },
      "execution_count": 115,
      "outputs": [
        {
          "output_type": "stream",
          "name": "stdout",
          "text": [
            "Id                 0\n",
            "MSSubClass         0\n",
            "MSZoning           0\n",
            "LotFrontage      259\n",
            "LotArea            0\n",
            "                ... \n",
            "MoSold             0\n",
            "YrSold             0\n",
            "SaleType           0\n",
            "SaleCondition      0\n",
            "SalePrice          0\n",
            "Length: 81, dtype: int64\n"
          ]
        }
      ]
    },
    {
      "cell_type": "code",
      "source": [
        "# Check the data type of the LotFrontage column\n",
        "print(df['LotFrontage'].dtypes)\n",
        "\n",
        "# Alternative: Use type() for a single value in the column\n",
        "print(type(df['LotFrontage'].iloc[0]))\n"
      ],
      "metadata": {
        "colab": {
          "base_uri": "https://localhost:8080/"
        },
        "id": "rfH5gvnlkAKA",
        "outputId": "9b955932-1531-4f9c-9e65-e661a66bf552"
      },
      "execution_count": 116,
      "outputs": [
        {
          "output_type": "stream",
          "name": "stdout",
          "text": [
            "float64\n",
            "<class 'numpy.float64'>\n"
          ]
        }
      ]
    },
    {
      "cell_type": "code",
      "source": [
        "df['LotFrontage'] = df['LotFrontage'].fillna(df['LotFrontage'].median())\n",
        "#df.fillna(df.mean(), inplace=True)\n"
      ],
      "metadata": {
        "id": "ry-Ud63xkeYn"
      },
      "execution_count": 122,
      "outputs": []
    },
    {
      "cell_type": "code",
      "source": [
        "# Check for NaN values in the 'LotFrontage' column\n",
        "nan_values = df['LotFrontage'].isna().sum()\n",
        "\n",
        "# Print the number of NaN values in 'LotFrontage'\n",
        "print(f'Number of NaN values in LotFrontage: {nan_values}')\n"
      ],
      "metadata": {
        "colab": {
          "base_uri": "https://localhost:8080/"
        },
        "id": "DOVtEiWhvwVe",
        "outputId": "61088906-a4af-455f-a9a2-7b7decc39358"
      },
      "execution_count": 123,
      "outputs": [
        {
          "output_type": "stream",
          "name": "stdout",
          "text": [
            "Number of NaN values in LotFrontage: 0\n"
          ]
        }
      ]
    },
    {
      "cell_type": "code",
      "source": [
        "# Check for columns with null values\n",
        "null_columns = df.columns[df.isnull().any()]\n",
        "\n",
        "# Display the columns that have null values\n",
        "print(\"Columns with null values:\")\n",
        "print(null_columns)\n",
        "\n"
      ],
      "metadata": {
        "colab": {
          "base_uri": "https://localhost:8080/"
        },
        "id": "OT8ytRixvjhK",
        "outputId": "59a53c4e-507d-4988-f323-63a0d6dfa567"
      },
      "execution_count": 129,
      "outputs": [
        {
          "output_type": "stream",
          "name": "stdout",
          "text": [
            "Columns with null values:\n",
            "Index(['Alley', 'MasVnrType', 'MasVnrArea', 'BsmtQual', 'BsmtCond',\n",
            "       'BsmtExposure', 'BsmtFinType1', 'BsmtFinType2', 'Electrical',\n",
            "       'FireplaceQu', 'GarageType', 'GarageYrBlt', 'GarageFinish',\n",
            "       'GarageQual', 'GarageCond', 'PoolQC', 'Fence', 'MiscFeature'],\n",
            "      dtype='object')\n"
          ]
        }
      ]
    },
    {
      "cell_type": "code",
      "source": [
        "print(df['LotFrontage'].isna().sum())\n",
        "print(df['SalePrice'].isna().sum())\n",
        "print(df['FullBath'].isna().sum())\n",
        "print(df['BedroomAbvGr'].isna().sum())\n",
        "print(df['PoolQC'].isna().sum())\n"
      ],
      "metadata": {
        "colab": {
          "base_uri": "https://localhost:8080/"
        },
        "id": "Qv1l94xmlZd4",
        "outputId": "5bec5e48-d8ef-4ded-af0c-27da28726670"
      },
      "execution_count": 133,
      "outputs": [
        {
          "output_type": "stream",
          "name": "stdout",
          "text": [
            "0\n",
            "0\n",
            "0\n",
            "0\n",
            "1453\n"
          ]
        }
      ]
    },
    {
      "cell_type": "code",
      "source": [
        "# Separate features (X) and target variable (SalePrice)\n",
        "X = df.drop('SalePrice', axis=1)\n",
        "y = df['SalePrice']\n"
      ],
      "metadata": {
        "id": "HY3qr0UAlhVA"
      },
      "execution_count": 134,
      "outputs": []
    },
    {
      "cell_type": "code",
      "source": [
        "# Step 1: Impute missing values in numeric columns (fill NaN with median)\n",
        "numeric_cols = X.select_dtypes(include=['number']).columns\n",
        "imputer_num = SimpleImputer(strategy='median')\n",
        "X[numeric_cols] = imputer_num.fit_transform(X[numeric_cols])\n",
        "\n",
        "# Step 2: Impute missing values in categorical columns (fill NaN with most frequent value)\n",
        "categorical_cols = X.select_dtypes(include=['object']).columns\n",
        "imputer_cat = SimpleImputer(strategy='most_frequent')\n",
        "X[categorical_cols] = imputer_cat.fit_transform(X[categorical_cols])\n",
        "\n",
        "# Step 3: One-hot encode the categorical columns\n",
        "X = pd.get_dummies(X, columns=categorical_cols, drop_first=True)"
      ],
      "metadata": {
        "id": "V7onoBy-w5W4"
      },
      "execution_count": 137,
      "outputs": []
    },
    {
      "cell_type": "code",
      "source": [
        "# Split the data into training and testing sets\n",
        "X_train, X_test, y_train, y_test = train_test_split(X, y, test_size=0.2, random_state=42)\n",
        "\n"
      ],
      "metadata": {
        "id": "S1UQ3OKNl7-w"
      },
      "execution_count": 138,
      "outputs": []
    },
    {
      "cell_type": "code",
      "source": [
        "# Check if there are any NaN values left in X_train or X_test\n",
        "print(\"Missing values in X_train after imputation:\")\n",
        "print(X_train.isna().sum())  # Shows count of NaNs in each column\n",
        "\n",
        "print(\"\\nMissing values in X_test after imputation:\")\n",
        "print(y_test.isna().sum())  # Shows count of NaNs in each column\n"
      ],
      "metadata": {
        "colab": {
          "base_uri": "https://localhost:8080/"
        },
        "id": "2GDBLaOBqRaO",
        "outputId": "69aab15e-5123-49e4-e777-a79c3d281ed3"
      },
      "execution_count": 140,
      "outputs": [
        {
          "output_type": "stream",
          "name": "stdout",
          "text": [
            "Missing values in X_train after imputation:\n",
            "Id                       0\n",
            "MSSubClass               0\n",
            "LotFrontage              0\n",
            "LotArea                  0\n",
            "OverallQual              0\n",
            "                        ..\n",
            "SaleCondition_AdjLand    0\n",
            "SaleCondition_Alloca     0\n",
            "SaleCondition_Family     0\n",
            "SaleCondition_Normal     0\n",
            "SaleCondition_Partial    0\n",
            "Length: 245, dtype: int64\n",
            "\n",
            "Missing values in X_test after imputation:\n",
            "0\n"
          ]
        }
      ]
    },
    {
      "cell_type": "code",
      "source": [
        "import pandas as pd\n",
        "\n",
        "# Assuming your DataFrame is named 'df'\n",
        "# ... (your code to load the dataset) ...\n",
        "\n",
        "# Select columns with object (string) data type\n",
        "non_numerical_data = df.select_dtypes(include=['object'])\n",
        "\n",
        "# Display the non-numerical data\n",
        "print(non_numerical_data)\n",
        "\n",
        "# Alternatively, you can display the first few rows of the non-numerical data:\n",
        "print(non_numerical_data.head())"
      ],
      "metadata": {
        "colab": {
          "base_uri": "https://localhost:8080/"
        },
        "id": "AN1gQ_cCrYaI",
        "outputId": "a7388f65-7ee1-4f17-b71e-1dd1b894d2dc"
      },
      "execution_count": 141,
      "outputs": [
        {
          "output_type": "stream",
          "name": "stdout",
          "text": [
            "     MSZoning Street Alley LotShape LandContour Utilities LotConfig LandSlope  \\\n",
            "0          RL   Pave   NaN      Reg         Lvl    AllPub    Inside       Gtl   \n",
            "1          RL   Pave   NaN      Reg         Lvl    AllPub       FR2       Gtl   \n",
            "2          RL   Pave   NaN      IR1         Lvl    AllPub    Inside       Gtl   \n",
            "3          RL   Pave   NaN      IR1         Lvl    AllPub    Corner       Gtl   \n",
            "4          RL   Pave   NaN      IR1         Lvl    AllPub       FR2       Gtl   \n",
            "...       ...    ...   ...      ...         ...       ...       ...       ...   \n",
            "1455       RL   Pave   NaN      Reg         Lvl    AllPub    Inside       Gtl   \n",
            "1456       RL   Pave   NaN      Reg         Lvl    AllPub    Inside       Gtl   \n",
            "1457       RL   Pave   NaN      Reg         Lvl    AllPub    Inside       Gtl   \n",
            "1458       RL   Pave   NaN      Reg         Lvl    AllPub    Inside       Gtl   \n",
            "1459       RL   Pave   NaN      Reg         Lvl    AllPub    Inside       Gtl   \n",
            "\n",
            "     Neighborhood Condition1  ... GarageType GarageFinish GarageQual  \\\n",
            "0         CollgCr       Norm  ...     Attchd          RFn         TA   \n",
            "1         Veenker      Feedr  ...     Attchd          RFn         TA   \n",
            "2         CollgCr       Norm  ...     Attchd          RFn         TA   \n",
            "3         Crawfor       Norm  ...     Detchd          Unf         TA   \n",
            "4         NoRidge       Norm  ...     Attchd          RFn         TA   \n",
            "...           ...        ...  ...        ...          ...        ...   \n",
            "1455      Gilbert       Norm  ...     Attchd          RFn         TA   \n",
            "1456       NWAmes       Norm  ...     Attchd          Unf         TA   \n",
            "1457      Crawfor       Norm  ...     Attchd          RFn         TA   \n",
            "1458        NAmes       Norm  ...     Attchd          Unf         TA   \n",
            "1459      Edwards       Norm  ...     Attchd          Fin         TA   \n",
            "\n",
            "     GarageCond PavedDrive PoolQC  Fence MiscFeature SaleType SaleCondition  \n",
            "0            TA          Y    NaN    NaN         NaN       WD        Normal  \n",
            "1            TA          Y    NaN    NaN         NaN       WD        Normal  \n",
            "2            TA          Y    NaN    NaN         NaN       WD        Normal  \n",
            "3            TA          Y    NaN    NaN         NaN       WD       Abnorml  \n",
            "4            TA          Y    NaN    NaN         NaN       WD        Normal  \n",
            "...         ...        ...    ...    ...         ...      ...           ...  \n",
            "1455         TA          Y    NaN    NaN         NaN       WD        Normal  \n",
            "1456         TA          Y    NaN  MnPrv         NaN       WD        Normal  \n",
            "1457         TA          Y    NaN  GdPrv        Shed       WD        Normal  \n",
            "1458         TA          Y    NaN    NaN         NaN       WD        Normal  \n",
            "1459         TA          Y    NaN    NaN         NaN       WD        Normal  \n",
            "\n",
            "[1460 rows x 43 columns]\n",
            "  MSZoning Street Alley LotShape LandContour Utilities LotConfig LandSlope  \\\n",
            "0       RL   Pave   NaN      Reg         Lvl    AllPub    Inside       Gtl   \n",
            "1       RL   Pave   NaN      Reg         Lvl    AllPub       FR2       Gtl   \n",
            "2       RL   Pave   NaN      IR1         Lvl    AllPub    Inside       Gtl   \n",
            "3       RL   Pave   NaN      IR1         Lvl    AllPub    Corner       Gtl   \n",
            "4       RL   Pave   NaN      IR1         Lvl    AllPub       FR2       Gtl   \n",
            "\n",
            "  Neighborhood Condition1  ... GarageType GarageFinish GarageQual GarageCond  \\\n",
            "0      CollgCr       Norm  ...     Attchd          RFn         TA         TA   \n",
            "1      Veenker      Feedr  ...     Attchd          RFn         TA         TA   \n",
            "2      CollgCr       Norm  ...     Attchd          RFn         TA         TA   \n",
            "3      Crawfor       Norm  ...     Detchd          Unf         TA         TA   \n",
            "4      NoRidge       Norm  ...     Attchd          RFn         TA         TA   \n",
            "\n",
            "  PavedDrive PoolQC Fence MiscFeature SaleType SaleCondition  \n",
            "0          Y    NaN   NaN         NaN       WD        Normal  \n",
            "1          Y    NaN   NaN         NaN       WD        Normal  \n",
            "2          Y    NaN   NaN         NaN       WD        Normal  \n",
            "3          Y    NaN   NaN         NaN       WD       Abnorml  \n",
            "4          Y    NaN   NaN         NaN       WD        Normal  \n",
            "\n",
            "[5 rows x 43 columns]\n"
          ]
        }
      ]
    },
    {
      "cell_type": "code",
      "source": [
        "model = LinearRegression()\n",
        "model.fit(X_train, y_train)"
      ],
      "metadata": {
        "colab": {
          "base_uri": "https://localhost:8080/",
          "height": 80
        },
        "id": "GC-1rbA-uCLO",
        "outputId": "230f38e5-cf04-48d2-b367-885abcfff821"
      },
      "execution_count": 142,
      "outputs": [
        {
          "output_type": "execute_result",
          "data": {
            "text/plain": [
              "LinearRegression()"
            ],
            "text/html": [
              "<style>#sk-container-id-3 {\n",
              "  /* Definition of color scheme common for light and dark mode */\n",
              "  --sklearn-color-text: #000;\n",
              "  --sklearn-color-text-muted: #666;\n",
              "  --sklearn-color-line: gray;\n",
              "  /* Definition of color scheme for unfitted estimators */\n",
              "  --sklearn-color-unfitted-level-0: #fff5e6;\n",
              "  --sklearn-color-unfitted-level-1: #f6e4d2;\n",
              "  --sklearn-color-unfitted-level-2: #ffe0b3;\n",
              "  --sklearn-color-unfitted-level-3: chocolate;\n",
              "  /* Definition of color scheme for fitted estimators */\n",
              "  --sklearn-color-fitted-level-0: #f0f8ff;\n",
              "  --sklearn-color-fitted-level-1: #d4ebff;\n",
              "  --sklearn-color-fitted-level-2: #b3dbfd;\n",
              "  --sklearn-color-fitted-level-3: cornflowerblue;\n",
              "\n",
              "  /* Specific color for light theme */\n",
              "  --sklearn-color-text-on-default-background: var(--sg-text-color, var(--theme-code-foreground, var(--jp-content-font-color1, black)));\n",
              "  --sklearn-color-background: var(--sg-background-color, var(--theme-background, var(--jp-layout-color0, white)));\n",
              "  --sklearn-color-border-box: var(--sg-text-color, var(--theme-code-foreground, var(--jp-content-font-color1, black)));\n",
              "  --sklearn-color-icon: #696969;\n",
              "\n",
              "  @media (prefers-color-scheme: dark) {\n",
              "    /* Redefinition of color scheme for dark theme */\n",
              "    --sklearn-color-text-on-default-background: var(--sg-text-color, var(--theme-code-foreground, var(--jp-content-font-color1, white)));\n",
              "    --sklearn-color-background: var(--sg-background-color, var(--theme-background, var(--jp-layout-color0, #111)));\n",
              "    --sklearn-color-border-box: var(--sg-text-color, var(--theme-code-foreground, var(--jp-content-font-color1, white)));\n",
              "    --sklearn-color-icon: #878787;\n",
              "  }\n",
              "}\n",
              "\n",
              "#sk-container-id-3 {\n",
              "  color: var(--sklearn-color-text);\n",
              "}\n",
              "\n",
              "#sk-container-id-3 pre {\n",
              "  padding: 0;\n",
              "}\n",
              "\n",
              "#sk-container-id-3 input.sk-hidden--visually {\n",
              "  border: 0;\n",
              "  clip: rect(1px 1px 1px 1px);\n",
              "  clip: rect(1px, 1px, 1px, 1px);\n",
              "  height: 1px;\n",
              "  margin: -1px;\n",
              "  overflow: hidden;\n",
              "  padding: 0;\n",
              "  position: absolute;\n",
              "  width: 1px;\n",
              "}\n",
              "\n",
              "#sk-container-id-3 div.sk-dashed-wrapped {\n",
              "  border: 1px dashed var(--sklearn-color-line);\n",
              "  margin: 0 0.4em 0.5em 0.4em;\n",
              "  box-sizing: border-box;\n",
              "  padding-bottom: 0.4em;\n",
              "  background-color: var(--sklearn-color-background);\n",
              "}\n",
              "\n",
              "#sk-container-id-3 div.sk-container {\n",
              "  /* jupyter's `normalize.less` sets `[hidden] { display: none; }`\n",
              "     but bootstrap.min.css set `[hidden] { display: none !important; }`\n",
              "     so we also need the `!important` here to be able to override the\n",
              "     default hidden behavior on the sphinx rendered scikit-learn.org.\n",
              "     See: https://github.com/scikit-learn/scikit-learn/issues/21755 */\n",
              "  display: inline-block !important;\n",
              "  position: relative;\n",
              "}\n",
              "\n",
              "#sk-container-id-3 div.sk-text-repr-fallback {\n",
              "  display: none;\n",
              "}\n",
              "\n",
              "div.sk-parallel-item,\n",
              "div.sk-serial,\n",
              "div.sk-item {\n",
              "  /* draw centered vertical line to link estimators */\n",
              "  background-image: linear-gradient(var(--sklearn-color-text-on-default-background), var(--sklearn-color-text-on-default-background));\n",
              "  background-size: 2px 100%;\n",
              "  background-repeat: no-repeat;\n",
              "  background-position: center center;\n",
              "}\n",
              "\n",
              "/* Parallel-specific style estimator block */\n",
              "\n",
              "#sk-container-id-3 div.sk-parallel-item::after {\n",
              "  content: \"\";\n",
              "  width: 100%;\n",
              "  border-bottom: 2px solid var(--sklearn-color-text-on-default-background);\n",
              "  flex-grow: 1;\n",
              "}\n",
              "\n",
              "#sk-container-id-3 div.sk-parallel {\n",
              "  display: flex;\n",
              "  align-items: stretch;\n",
              "  justify-content: center;\n",
              "  background-color: var(--sklearn-color-background);\n",
              "  position: relative;\n",
              "}\n",
              "\n",
              "#sk-container-id-3 div.sk-parallel-item {\n",
              "  display: flex;\n",
              "  flex-direction: column;\n",
              "}\n",
              "\n",
              "#sk-container-id-3 div.sk-parallel-item:first-child::after {\n",
              "  align-self: flex-end;\n",
              "  width: 50%;\n",
              "}\n",
              "\n",
              "#sk-container-id-3 div.sk-parallel-item:last-child::after {\n",
              "  align-self: flex-start;\n",
              "  width: 50%;\n",
              "}\n",
              "\n",
              "#sk-container-id-3 div.sk-parallel-item:only-child::after {\n",
              "  width: 0;\n",
              "}\n",
              "\n",
              "/* Serial-specific style estimator block */\n",
              "\n",
              "#sk-container-id-3 div.sk-serial {\n",
              "  display: flex;\n",
              "  flex-direction: column;\n",
              "  align-items: center;\n",
              "  background-color: var(--sklearn-color-background);\n",
              "  padding-right: 1em;\n",
              "  padding-left: 1em;\n",
              "}\n",
              "\n",
              "\n",
              "/* Toggleable style: style used for estimator/Pipeline/ColumnTransformer box that is\n",
              "clickable and can be expanded/collapsed.\n",
              "- Pipeline and ColumnTransformer use this feature and define the default style\n",
              "- Estimators will overwrite some part of the style using the `sk-estimator` class\n",
              "*/\n",
              "\n",
              "/* Pipeline and ColumnTransformer style (default) */\n",
              "\n",
              "#sk-container-id-3 div.sk-toggleable {\n",
              "  /* Default theme specific background. It is overwritten whether we have a\n",
              "  specific estimator or a Pipeline/ColumnTransformer */\n",
              "  background-color: var(--sklearn-color-background);\n",
              "}\n",
              "\n",
              "/* Toggleable label */\n",
              "#sk-container-id-3 label.sk-toggleable__label {\n",
              "  cursor: pointer;\n",
              "  display: flex;\n",
              "  width: 100%;\n",
              "  margin-bottom: 0;\n",
              "  padding: 0.5em;\n",
              "  box-sizing: border-box;\n",
              "  text-align: center;\n",
              "  align-items: start;\n",
              "  justify-content: space-between;\n",
              "  gap: 0.5em;\n",
              "}\n",
              "\n",
              "#sk-container-id-3 label.sk-toggleable__label .caption {\n",
              "  font-size: 0.6rem;\n",
              "  font-weight: lighter;\n",
              "  color: var(--sklearn-color-text-muted);\n",
              "}\n",
              "\n",
              "#sk-container-id-3 label.sk-toggleable__label-arrow:before {\n",
              "  /* Arrow on the left of the label */\n",
              "  content: \"▸\";\n",
              "  float: left;\n",
              "  margin-right: 0.25em;\n",
              "  color: var(--sklearn-color-icon);\n",
              "}\n",
              "\n",
              "#sk-container-id-3 label.sk-toggleable__label-arrow:hover:before {\n",
              "  color: var(--sklearn-color-text);\n",
              "}\n",
              "\n",
              "/* Toggleable content - dropdown */\n",
              "\n",
              "#sk-container-id-3 div.sk-toggleable__content {\n",
              "  max-height: 0;\n",
              "  max-width: 0;\n",
              "  overflow: hidden;\n",
              "  text-align: left;\n",
              "  /* unfitted */\n",
              "  background-color: var(--sklearn-color-unfitted-level-0);\n",
              "}\n",
              "\n",
              "#sk-container-id-3 div.sk-toggleable__content.fitted {\n",
              "  /* fitted */\n",
              "  background-color: var(--sklearn-color-fitted-level-0);\n",
              "}\n",
              "\n",
              "#sk-container-id-3 div.sk-toggleable__content pre {\n",
              "  margin: 0.2em;\n",
              "  border-radius: 0.25em;\n",
              "  color: var(--sklearn-color-text);\n",
              "  /* unfitted */\n",
              "  background-color: var(--sklearn-color-unfitted-level-0);\n",
              "}\n",
              "\n",
              "#sk-container-id-3 div.sk-toggleable__content.fitted pre {\n",
              "  /* unfitted */\n",
              "  background-color: var(--sklearn-color-fitted-level-0);\n",
              "}\n",
              "\n",
              "#sk-container-id-3 input.sk-toggleable__control:checked~div.sk-toggleable__content {\n",
              "  /* Expand drop-down */\n",
              "  max-height: 200px;\n",
              "  max-width: 100%;\n",
              "  overflow: auto;\n",
              "}\n",
              "\n",
              "#sk-container-id-3 input.sk-toggleable__control:checked~label.sk-toggleable__label-arrow:before {\n",
              "  content: \"▾\";\n",
              "}\n",
              "\n",
              "/* Pipeline/ColumnTransformer-specific style */\n",
              "\n",
              "#sk-container-id-3 div.sk-label input.sk-toggleable__control:checked~label.sk-toggleable__label {\n",
              "  color: var(--sklearn-color-text);\n",
              "  background-color: var(--sklearn-color-unfitted-level-2);\n",
              "}\n",
              "\n",
              "#sk-container-id-3 div.sk-label.fitted input.sk-toggleable__control:checked~label.sk-toggleable__label {\n",
              "  background-color: var(--sklearn-color-fitted-level-2);\n",
              "}\n",
              "\n",
              "/* Estimator-specific style */\n",
              "\n",
              "/* Colorize estimator box */\n",
              "#sk-container-id-3 div.sk-estimator input.sk-toggleable__control:checked~label.sk-toggleable__label {\n",
              "  /* unfitted */\n",
              "  background-color: var(--sklearn-color-unfitted-level-2);\n",
              "}\n",
              "\n",
              "#sk-container-id-3 div.sk-estimator.fitted input.sk-toggleable__control:checked~label.sk-toggleable__label {\n",
              "  /* fitted */\n",
              "  background-color: var(--sklearn-color-fitted-level-2);\n",
              "}\n",
              "\n",
              "#sk-container-id-3 div.sk-label label.sk-toggleable__label,\n",
              "#sk-container-id-3 div.sk-label label {\n",
              "  /* The background is the default theme color */\n",
              "  color: var(--sklearn-color-text-on-default-background);\n",
              "}\n",
              "\n",
              "/* On hover, darken the color of the background */\n",
              "#sk-container-id-3 div.sk-label:hover label.sk-toggleable__label {\n",
              "  color: var(--sklearn-color-text);\n",
              "  background-color: var(--sklearn-color-unfitted-level-2);\n",
              "}\n",
              "\n",
              "/* Label box, darken color on hover, fitted */\n",
              "#sk-container-id-3 div.sk-label.fitted:hover label.sk-toggleable__label.fitted {\n",
              "  color: var(--sklearn-color-text);\n",
              "  background-color: var(--sklearn-color-fitted-level-2);\n",
              "}\n",
              "\n",
              "/* Estimator label */\n",
              "\n",
              "#sk-container-id-3 div.sk-label label {\n",
              "  font-family: monospace;\n",
              "  font-weight: bold;\n",
              "  display: inline-block;\n",
              "  line-height: 1.2em;\n",
              "}\n",
              "\n",
              "#sk-container-id-3 div.sk-label-container {\n",
              "  text-align: center;\n",
              "}\n",
              "\n",
              "/* Estimator-specific */\n",
              "#sk-container-id-3 div.sk-estimator {\n",
              "  font-family: monospace;\n",
              "  border: 1px dotted var(--sklearn-color-border-box);\n",
              "  border-radius: 0.25em;\n",
              "  box-sizing: border-box;\n",
              "  margin-bottom: 0.5em;\n",
              "  /* unfitted */\n",
              "  background-color: var(--sklearn-color-unfitted-level-0);\n",
              "}\n",
              "\n",
              "#sk-container-id-3 div.sk-estimator.fitted {\n",
              "  /* fitted */\n",
              "  background-color: var(--sklearn-color-fitted-level-0);\n",
              "}\n",
              "\n",
              "/* on hover */\n",
              "#sk-container-id-3 div.sk-estimator:hover {\n",
              "  /* unfitted */\n",
              "  background-color: var(--sklearn-color-unfitted-level-2);\n",
              "}\n",
              "\n",
              "#sk-container-id-3 div.sk-estimator.fitted:hover {\n",
              "  /* fitted */\n",
              "  background-color: var(--sklearn-color-fitted-level-2);\n",
              "}\n",
              "\n",
              "/* Specification for estimator info (e.g. \"i\" and \"?\") */\n",
              "\n",
              "/* Common style for \"i\" and \"?\" */\n",
              "\n",
              ".sk-estimator-doc-link,\n",
              "a:link.sk-estimator-doc-link,\n",
              "a:visited.sk-estimator-doc-link {\n",
              "  float: right;\n",
              "  font-size: smaller;\n",
              "  line-height: 1em;\n",
              "  font-family: monospace;\n",
              "  background-color: var(--sklearn-color-background);\n",
              "  border-radius: 1em;\n",
              "  height: 1em;\n",
              "  width: 1em;\n",
              "  text-decoration: none !important;\n",
              "  margin-left: 0.5em;\n",
              "  text-align: center;\n",
              "  /* unfitted */\n",
              "  border: var(--sklearn-color-unfitted-level-1) 1pt solid;\n",
              "  color: var(--sklearn-color-unfitted-level-1);\n",
              "}\n",
              "\n",
              ".sk-estimator-doc-link.fitted,\n",
              "a:link.sk-estimator-doc-link.fitted,\n",
              "a:visited.sk-estimator-doc-link.fitted {\n",
              "  /* fitted */\n",
              "  border: var(--sklearn-color-fitted-level-1) 1pt solid;\n",
              "  color: var(--sklearn-color-fitted-level-1);\n",
              "}\n",
              "\n",
              "/* On hover */\n",
              "div.sk-estimator:hover .sk-estimator-doc-link:hover,\n",
              ".sk-estimator-doc-link:hover,\n",
              "div.sk-label-container:hover .sk-estimator-doc-link:hover,\n",
              ".sk-estimator-doc-link:hover {\n",
              "  /* unfitted */\n",
              "  background-color: var(--sklearn-color-unfitted-level-3);\n",
              "  color: var(--sklearn-color-background);\n",
              "  text-decoration: none;\n",
              "}\n",
              "\n",
              "div.sk-estimator.fitted:hover .sk-estimator-doc-link.fitted:hover,\n",
              ".sk-estimator-doc-link.fitted:hover,\n",
              "div.sk-label-container:hover .sk-estimator-doc-link.fitted:hover,\n",
              ".sk-estimator-doc-link.fitted:hover {\n",
              "  /* fitted */\n",
              "  background-color: var(--sklearn-color-fitted-level-3);\n",
              "  color: var(--sklearn-color-background);\n",
              "  text-decoration: none;\n",
              "}\n",
              "\n",
              "/* Span, style for the box shown on hovering the info icon */\n",
              ".sk-estimator-doc-link span {\n",
              "  display: none;\n",
              "  z-index: 9999;\n",
              "  position: relative;\n",
              "  font-weight: normal;\n",
              "  right: .2ex;\n",
              "  padding: .5ex;\n",
              "  margin: .5ex;\n",
              "  width: min-content;\n",
              "  min-width: 20ex;\n",
              "  max-width: 50ex;\n",
              "  color: var(--sklearn-color-text);\n",
              "  box-shadow: 2pt 2pt 4pt #999;\n",
              "  /* unfitted */\n",
              "  background: var(--sklearn-color-unfitted-level-0);\n",
              "  border: .5pt solid var(--sklearn-color-unfitted-level-3);\n",
              "}\n",
              "\n",
              ".sk-estimator-doc-link.fitted span {\n",
              "  /* fitted */\n",
              "  background: var(--sklearn-color-fitted-level-0);\n",
              "  border: var(--sklearn-color-fitted-level-3);\n",
              "}\n",
              "\n",
              ".sk-estimator-doc-link:hover span {\n",
              "  display: block;\n",
              "}\n",
              "\n",
              "/* \"?\"-specific style due to the `<a>` HTML tag */\n",
              "\n",
              "#sk-container-id-3 a.estimator_doc_link {\n",
              "  float: right;\n",
              "  font-size: 1rem;\n",
              "  line-height: 1em;\n",
              "  font-family: monospace;\n",
              "  background-color: var(--sklearn-color-background);\n",
              "  border-radius: 1rem;\n",
              "  height: 1rem;\n",
              "  width: 1rem;\n",
              "  text-decoration: none;\n",
              "  /* unfitted */\n",
              "  color: var(--sklearn-color-unfitted-level-1);\n",
              "  border: var(--sklearn-color-unfitted-level-1) 1pt solid;\n",
              "}\n",
              "\n",
              "#sk-container-id-3 a.estimator_doc_link.fitted {\n",
              "  /* fitted */\n",
              "  border: var(--sklearn-color-fitted-level-1) 1pt solid;\n",
              "  color: var(--sklearn-color-fitted-level-1);\n",
              "}\n",
              "\n",
              "/* On hover */\n",
              "#sk-container-id-3 a.estimator_doc_link:hover {\n",
              "  /* unfitted */\n",
              "  background-color: var(--sklearn-color-unfitted-level-3);\n",
              "  color: var(--sklearn-color-background);\n",
              "  text-decoration: none;\n",
              "}\n",
              "\n",
              "#sk-container-id-3 a.estimator_doc_link.fitted:hover {\n",
              "  /* fitted */\n",
              "  background-color: var(--sklearn-color-fitted-level-3);\n",
              "}\n",
              "</style><div id=\"sk-container-id-3\" class=\"sk-top-container\"><div class=\"sk-text-repr-fallback\"><pre>LinearRegression()</pre><b>In a Jupyter environment, please rerun this cell to show the HTML representation or trust the notebook. <br />On GitHub, the HTML representation is unable to render, please try loading this page with nbviewer.org.</b></div><div class=\"sk-container\" hidden><div class=\"sk-item\"><div class=\"sk-estimator fitted sk-toggleable\"><input class=\"sk-toggleable__control sk-hidden--visually\" id=\"sk-estimator-id-9\" type=\"checkbox\" checked><label for=\"sk-estimator-id-9\" class=\"sk-toggleable__label fitted sk-toggleable__label-arrow\"><div><div>LinearRegression</div></div><div><a class=\"sk-estimator-doc-link fitted\" rel=\"noreferrer\" target=\"_blank\" href=\"https://scikit-learn.org/1.6/modules/generated/sklearn.linear_model.LinearRegression.html\">?<span>Documentation for LinearRegression</span></a><span class=\"sk-estimator-doc-link fitted\">i<span>Fitted</span></span></div></label><div class=\"sk-toggleable__content fitted\"><pre>LinearRegression()</pre></div> </div></div></div></div>"
            ]
          },
          "metadata": {},
          "execution_count": 142
        }
      ]
    },
    {
      "cell_type": "code",
      "source": [
        "y_pred = model.predict(X_test)"
      ],
      "metadata": {
        "id": "Vjlr1YUgsO-t"
      },
      "execution_count": 143,
      "outputs": []
    },
    {
      "cell_type": "code",
      "source": [
        "mse = mean_squared_error(y_test, y_pred)\n",
        "r2 = r2_score(y_test, y_pred)"
      ],
      "metadata": {
        "id": "EqKqV_BRmF8P"
      },
      "execution_count": 145,
      "outputs": []
    },
    {
      "cell_type": "code",
      "source": [
        "print(f'Mean Squared Error: {mse}')\n",
        "print(f'R^2 Score: {r2}')"
      ],
      "metadata": {
        "colab": {
          "base_uri": "https://localhost:8080/"
        },
        "id": "wLsTEdbxogLp",
        "outputId": "45c2f77b-b725-4568-f514-64d8bd7c284c"
      },
      "execution_count": 146,
      "outputs": [
        {
          "output_type": "stream",
          "name": "stdout",
          "text": [
            "Mean Squared Error: 2642483715.1941447\n",
            "R^2 Score: 0.6554926552252592\n"
          ]
        }
      ]
    },
    {
      "cell_type": "code",
      "source": [
        "#Save the predictions to a new CSV file\n",
        "results = pd.DataFrame({\n",
        "    'Actual': y_test,\n",
        "    'Predicted': y_pred\n",
        "})"
      ],
      "metadata": {
        "id": "8yIe9Tt4o5Y4"
      },
      "execution_count": 147,
      "outputs": []
    },
    {
      "cell_type": "code",
      "source": [
        "results.to_csv('predicted_saleprice.csv', index=False)"
      ],
      "metadata": {
        "id": "diIpqseExlJK"
      },
      "execution_count": 148,
      "outputs": []
    }
  ]
}